{
  "nbformat": 4,
  "nbformat_minor": 0,
  "metadata": {
    "colab": {
      "provenance": []
    },
    "kernelspec": {
      "name": "python3",
      "display_name": "Python 3"
    },
    "language_info": {
      "name": "python"
    }
  },
  "cells": [
    {
      "cell_type": "code",
      "execution_count": null,
      "metadata": {
        "id": "_Psl1wIh3m3b"
      },
      "outputs": [],
      "source": [
        "import pandas as pd\n",
        "from ntscraper import Nitter"
      ]
    },
    {
      "cell_type": "code",
      "source": [
        "pip install ntscraper"
      ],
      "metadata": {
        "colab": {
          "base_uri": "https://localhost:8080/"
        },
        "id": "tTSP2yOo3t7D",
        "outputId": "3d280810-1e81-4e7b-a06a-dcd9aa1b8029"
      },
      "execution_count": null,
      "outputs": [
        {
          "output_type": "stream",
          "name": "stdout",
          "text": [
            "Collecting ntscraper\n",
            "  Downloading ntscraper-0.3.13-py3-none-any.whl (11 kB)\n",
            "Requirement already satisfied: requests in /usr/local/lib/python3.10/dist-packages (from ntscraper) (2.31.0)\n",
            "Requirement already satisfied: beautifulsoup4 in /usr/local/lib/python3.10/dist-packages (from ntscraper) (4.12.3)\n",
            "Requirement already satisfied: lxml in /usr/local/lib/python3.10/dist-packages (from ntscraper) (4.9.4)\n",
            "Requirement already satisfied: soupsieve>1.2 in /usr/local/lib/python3.10/dist-packages (from beautifulsoup4->ntscraper) (2.5)\n",
            "Requirement already satisfied: charset-normalizer<4,>=2 in /usr/local/lib/python3.10/dist-packages (from requests->ntscraper) (3.3.2)\n",
            "Requirement already satisfied: idna<4,>=2.5 in /usr/local/lib/python3.10/dist-packages (from requests->ntscraper) (3.7)\n",
            "Requirement already satisfied: urllib3<3,>=1.21.1 in /usr/local/lib/python3.10/dist-packages (from requests->ntscraper) (2.0.7)\n",
            "Requirement already satisfied: certifi>=2017.4.17 in /usr/local/lib/python3.10/dist-packages (from requests->ntscraper) (2024.2.2)\n",
            "Installing collected packages: ntscraper\n",
            "Successfully installed ntscraper-0.3.13\n"
          ]
        }
      ]
    },
    {
      "cell_type": "code",
      "source": [
        "scrapper = Nitter()"
      ],
      "metadata": {
        "colab": {
          "base_uri": "https://localhost:8080/"
        },
        "id": "DLUO_tHN32aE",
        "outputId": "012cab82-96d9-411c-b9f7-8cd1d8015c24"
      },
      "execution_count": null,
      "outputs": [
        {
          "output_type": "stream",
          "name": "stderr",
          "text": [
            "Testing instances: 100%|██████████| 77/77 [00:53<00:00,  1.45it/s]\n"
          ]
        }
      ]
    },
    {
      "cell_type": "code",
      "source": [
        "tweets = scrapper.get_tweets('mkstalin',mode =  'user', number=5)"
      ],
      "metadata": {
        "colab": {
          "base_uri": "https://localhost:8080/"
        },
        "id": "Yuhckm6E3_bN",
        "outputId": "f153da5b-1641-4c92-f80d-78ead2e490ed"
      },
      "execution_count": null,
      "outputs": [
        {
          "output_type": "stream",
          "name": "stderr",
          "text": [
            "INFO:root:No instance specified, using random instance https://nitter.privacydev.net\n",
            "INFO:root:Current stats for mkstalin: 5 tweets, 0 threads...\n"
          ]
        }
      ]
    },
    {
      "cell_type": "code",
      "source": [
        "def get_tweets(name,modes,num):\n",
        "  tweets = scrapper.get_tweets(name,mode = modes, number=num)\n",
        "  final_tweets = []\n",
        "  for tweet in tweets['tweets']:\n",
        "    data = [tweet['link'], tweet['text'], tweet['date'], tweet['stats']['likes'], tweet['stats']['comments']]\n",
        "    final_tweets.append(data)\n",
        "  data = pd.DataFrame(final_tweets, columns = ['link','text','date','likes','tweets'])\n",
        "  return data"
      ],
      "metadata": {
        "id": "fXEGwdBB4pmb"
      },
      "execution_count": null,
      "outputs": []
    },
    {
      "cell_type": "code",
      "source": [],
      "metadata": {
        "id": "seuSIetE-_wv"
      },
      "execution_count": null,
      "outputs": []
    },
    {
      "cell_type": "code",
      "source": [
        "data = get_tweets('mkstalin','user',15)"
      ],
      "metadata": {
        "colab": {
          "base_uri": "https://localhost:8080/"
        },
        "id": "Z1M5T6bQ4v6T",
        "outputId": "be7c9be1-1174-4aa2-e566-0902b186251a"
      },
      "execution_count": null,
      "outputs": [
        {
          "output_type": "stream",
          "name": "stderr",
          "text": [
            "INFO:root:No instance specified, using random instance https://nitter.privacydev.net\n",
            "INFO:root:Current stats for mkstalin: 15 tweets, 0 threads...\n"
          ]
        }
      ]
    },
    {
      "cell_type": "code",
      "source": [
        "data"
      ],
      "metadata": {
        "colab": {
          "base_uri": "https://localhost:8080/",
          "height": 780
        },
        "id": "SP3D_4Nn53-t",
        "outputId": "5e616779-bf09-4ae8-859e-003cc61d1ff5"
      },
      "execution_count": null,
      "outputs": [
        {
          "output_type": "execute_result",
          "data": {
            "text/plain": [
              "                                                 link  \\\n",
              "0   https://twitter.com/mkstalin/status/1796420514...   \n",
              "1   https://twitter.com/mkstalin/status/1794607385...   \n",
              "2   https://twitter.com/mkstalin/status/1793992673...   \n",
              "3   https://twitter.com/mkstalin/status/1793841364...   \n",
              "4   https://twitter.com/mkstalin/status/1793654526...   \n",
              "5   https://twitter.com/mkstalin/status/1793602300...   \n",
              "6   https://twitter.com/mkstalin/status/1792943429...   \n",
              "7   https://twitter.com/mkstalin/status/1792855795...   \n",
              "8   https://twitter.com/mkstalin/status/1792428302...   \n",
              "9   https://twitter.com/mkstalin/status/1791677075...   \n",
              "10  https://twitter.com/mkstalin/status/1791665934...   \n",
              "11  https://twitter.com/mkstalin/status/1791324329...   \n",
              "12  https://twitter.com/mkstalin/status/1789519659...   \n",
              "13  https://twitter.com/mkstalin/status/1789514121...   \n",
              "14  https://twitter.com/mkstalin/status/1789312514...   \n",
              "\n",
              "                                                 text  \\\n",
              "0   #DravidianModel அரசின் மூன்றே ஆண்டுகளில் தமிழ்...   \n",
              "1   #கலைஞர்100 நிறைவடையும் ஜூன்-3, தமிழ்நாடெங்கும்...   \n",
              "2   Hon'ble Union Cabinet Minister for Environment...   \n",
              "3   Wishing a very happy birthday to Hon'ble @CMOK...   \n",
              "4   சிலந்தியாற்றின் குறுக்கே கேரள அரசு தடுப்பணை கட...   \n",
              "5             கல்வியின் துணையால் கனவு மெய்ப்படட்டும்!   \n",
              "6   A monumental leap to glory!  Congratulations t...   \n",
              "7   தமிழ்நாட்டில் தேர்தல் முடிந்ததும், தனது 'தமிழ்...   \n",
              "8   தமிழன், திராவிடன் என்ற இரு சொற்களையும் அரசியல்...   \n",
              "9   தோல்வி பயம் என்ன செய்யும்?  பிரதமர் என்ற உயர்ப...   \n",
              "10  Birthday greetings to Hon'ble @VPIndia Thiru J...   \n",
              "11  Congratulations to Senior Advocate @KapilSibal...   \n",
              "12  அன்பின் உருவமாக விளங்கி, தன்னலங்கருதாத சேவையால...   \n",
              "13  உயிராக உருவான நம்மை தன் வயிற்றுக்குள் சுமந்து,...   \n",
              "14  திண்டுக்கல் மாவட்டம் சீலப்பாடியைச் சேர்ந்த ஆயு...   \n",
              "\n",
              "                           date  likes  tweets  \n",
              "0    May 31, 2024 · 5:56 AM UTC   1654     101  \n",
              "1    May 26, 2024 · 5:51 AM UTC   2154     211  \n",
              "2    May 24, 2024 · 1:09 PM UTC   1401     102  \n",
              "3    May 24, 2024 · 3:08 AM UTC   2063      94  \n",
              "4    May 23, 2024 · 2:45 PM UTC   1624     145  \n",
              "5   May 23, 2024 · 11:18 AM UTC   2591      91  \n",
              "6    May 21, 2024 · 3:39 PM UTC   4531      98  \n",
              "7    May 21, 2024 · 9:51 AM UTC   6064     512  \n",
              "8    May 20, 2024 · 5:33 AM UTC   2881     129  \n",
              "9    May 18, 2024 · 3:47 AM UTC   4987     338  \n",
              "10   May 18, 2024 · 3:03 AM UTC    827      42  \n",
              "11   May 17, 2024 · 4:26 AM UTC   5683     216  \n",
              "12   May 12, 2024 · 4:55 AM UTC   2037     118  \n",
              "13   May 12, 2024 · 4:33 AM UTC   2331     107  \n",
              "14   May 11, 2024 · 3:12 PM UTC   1235      71  "
            ],
            "text/html": [
              "\n",
              "  <div id=\"df-edebe118-2475-47da-be11-a86da20e804e\" class=\"colab-df-container\">\n",
              "    <div>\n",
              "<style scoped>\n",
              "    .dataframe tbody tr th:only-of-type {\n",
              "        vertical-align: middle;\n",
              "    }\n",
              "\n",
              "    .dataframe tbody tr th {\n",
              "        vertical-align: top;\n",
              "    }\n",
              "\n",
              "    .dataframe thead th {\n",
              "        text-align: right;\n",
              "    }\n",
              "</style>\n",
              "<table border=\"1\" class=\"dataframe\">\n",
              "  <thead>\n",
              "    <tr style=\"text-align: right;\">\n",
              "      <th></th>\n",
              "      <th>link</th>\n",
              "      <th>text</th>\n",
              "      <th>date</th>\n",
              "      <th>likes</th>\n",
              "      <th>tweets</th>\n",
              "    </tr>\n",
              "  </thead>\n",
              "  <tbody>\n",
              "    <tr>\n",
              "      <th>0</th>\n",
              "      <td>https://twitter.com/mkstalin/status/1796420514...</td>\n",
              "      <td>#DravidianModel அரசின் மூன்றே ஆண்டுகளில் தமிழ்...</td>\n",
              "      <td>May 31, 2024 · 5:56 AM UTC</td>\n",
              "      <td>1654</td>\n",
              "      <td>101</td>\n",
              "    </tr>\n",
              "    <tr>\n",
              "      <th>1</th>\n",
              "      <td>https://twitter.com/mkstalin/status/1794607385...</td>\n",
              "      <td>#கலைஞர்100 நிறைவடையும் ஜூன்-3, தமிழ்நாடெங்கும்...</td>\n",
              "      <td>May 26, 2024 · 5:51 AM UTC</td>\n",
              "      <td>2154</td>\n",
              "      <td>211</td>\n",
              "    </tr>\n",
              "    <tr>\n",
              "      <th>2</th>\n",
              "      <td>https://twitter.com/mkstalin/status/1793992673...</td>\n",
              "      <td>Hon'ble Union Cabinet Minister for Environment...</td>\n",
              "      <td>May 24, 2024 · 1:09 PM UTC</td>\n",
              "      <td>1401</td>\n",
              "      <td>102</td>\n",
              "    </tr>\n",
              "    <tr>\n",
              "      <th>3</th>\n",
              "      <td>https://twitter.com/mkstalin/status/1793841364...</td>\n",
              "      <td>Wishing a very happy birthday to Hon'ble @CMOK...</td>\n",
              "      <td>May 24, 2024 · 3:08 AM UTC</td>\n",
              "      <td>2063</td>\n",
              "      <td>94</td>\n",
              "    </tr>\n",
              "    <tr>\n",
              "      <th>4</th>\n",
              "      <td>https://twitter.com/mkstalin/status/1793654526...</td>\n",
              "      <td>சிலந்தியாற்றின் குறுக்கே கேரள அரசு தடுப்பணை கட...</td>\n",
              "      <td>May 23, 2024 · 2:45 PM UTC</td>\n",
              "      <td>1624</td>\n",
              "      <td>145</td>\n",
              "    </tr>\n",
              "    <tr>\n",
              "      <th>5</th>\n",
              "      <td>https://twitter.com/mkstalin/status/1793602300...</td>\n",
              "      <td>கல்வியின் துணையால் கனவு மெய்ப்படட்டும்!</td>\n",
              "      <td>May 23, 2024 · 11:18 AM UTC</td>\n",
              "      <td>2591</td>\n",
              "      <td>91</td>\n",
              "    </tr>\n",
              "    <tr>\n",
              "      <th>6</th>\n",
              "      <td>https://twitter.com/mkstalin/status/1792943429...</td>\n",
              "      <td>A monumental leap to glory!  Congratulations t...</td>\n",
              "      <td>May 21, 2024 · 3:39 PM UTC</td>\n",
              "      <td>4531</td>\n",
              "      <td>98</td>\n",
              "    </tr>\n",
              "    <tr>\n",
              "      <th>7</th>\n",
              "      <td>https://twitter.com/mkstalin/status/1792855795...</td>\n",
              "      <td>தமிழ்நாட்டில் தேர்தல் முடிந்ததும், தனது 'தமிழ்...</td>\n",
              "      <td>May 21, 2024 · 9:51 AM UTC</td>\n",
              "      <td>6064</td>\n",
              "      <td>512</td>\n",
              "    </tr>\n",
              "    <tr>\n",
              "      <th>8</th>\n",
              "      <td>https://twitter.com/mkstalin/status/1792428302...</td>\n",
              "      <td>தமிழன், திராவிடன் என்ற இரு சொற்களையும் அரசியல்...</td>\n",
              "      <td>May 20, 2024 · 5:33 AM UTC</td>\n",
              "      <td>2881</td>\n",
              "      <td>129</td>\n",
              "    </tr>\n",
              "    <tr>\n",
              "      <th>9</th>\n",
              "      <td>https://twitter.com/mkstalin/status/1791677075...</td>\n",
              "      <td>தோல்வி பயம் என்ன செய்யும்?  பிரதமர் என்ற உயர்ப...</td>\n",
              "      <td>May 18, 2024 · 3:47 AM UTC</td>\n",
              "      <td>4987</td>\n",
              "      <td>338</td>\n",
              "    </tr>\n",
              "    <tr>\n",
              "      <th>10</th>\n",
              "      <td>https://twitter.com/mkstalin/status/1791665934...</td>\n",
              "      <td>Birthday greetings to Hon'ble @VPIndia Thiru J...</td>\n",
              "      <td>May 18, 2024 · 3:03 AM UTC</td>\n",
              "      <td>827</td>\n",
              "      <td>42</td>\n",
              "    </tr>\n",
              "    <tr>\n",
              "      <th>11</th>\n",
              "      <td>https://twitter.com/mkstalin/status/1791324329...</td>\n",
              "      <td>Congratulations to Senior Advocate @KapilSibal...</td>\n",
              "      <td>May 17, 2024 · 4:26 AM UTC</td>\n",
              "      <td>5683</td>\n",
              "      <td>216</td>\n",
              "    </tr>\n",
              "    <tr>\n",
              "      <th>12</th>\n",
              "      <td>https://twitter.com/mkstalin/status/1789519659...</td>\n",
              "      <td>அன்பின் உருவமாக விளங்கி, தன்னலங்கருதாத சேவையால...</td>\n",
              "      <td>May 12, 2024 · 4:55 AM UTC</td>\n",
              "      <td>2037</td>\n",
              "      <td>118</td>\n",
              "    </tr>\n",
              "    <tr>\n",
              "      <th>13</th>\n",
              "      <td>https://twitter.com/mkstalin/status/1789514121...</td>\n",
              "      <td>உயிராக உருவான நம்மை தன் வயிற்றுக்குள் சுமந்து,...</td>\n",
              "      <td>May 12, 2024 · 4:33 AM UTC</td>\n",
              "      <td>2331</td>\n",
              "      <td>107</td>\n",
              "    </tr>\n",
              "    <tr>\n",
              "      <th>14</th>\n",
              "      <td>https://twitter.com/mkstalin/status/1789312514...</td>\n",
              "      <td>திண்டுக்கல் மாவட்டம் சீலப்பாடியைச் சேர்ந்த ஆயு...</td>\n",
              "      <td>May 11, 2024 · 3:12 PM UTC</td>\n",
              "      <td>1235</td>\n",
              "      <td>71</td>\n",
              "    </tr>\n",
              "  </tbody>\n",
              "</table>\n",
              "</div>\n",
              "    <div class=\"colab-df-buttons\">\n",
              "\n",
              "  <div class=\"colab-df-container\">\n",
              "    <button class=\"colab-df-convert\" onclick=\"convertToInteractive('df-edebe118-2475-47da-be11-a86da20e804e')\"\n",
              "            title=\"Convert this dataframe to an interactive table.\"\n",
              "            style=\"display:none;\">\n",
              "\n",
              "  <svg xmlns=\"http://www.w3.org/2000/svg\" height=\"24px\" viewBox=\"0 -960 960 960\">\n",
              "    <path d=\"M120-120v-720h720v720H120Zm60-500h600v-160H180v160Zm220 220h160v-160H400v160Zm0 220h160v-160H400v160ZM180-400h160v-160H180v160Zm440 0h160v-160H620v160ZM180-180h160v-160H180v160Zm440 0h160v-160H620v160Z\"/>\n",
              "  </svg>\n",
              "    </button>\n",
              "\n",
              "  <style>\n",
              "    .colab-df-container {\n",
              "      display:flex;\n",
              "      gap: 12px;\n",
              "    }\n",
              "\n",
              "    .colab-df-convert {\n",
              "      background-color: #E8F0FE;\n",
              "      border: none;\n",
              "      border-radius: 50%;\n",
              "      cursor: pointer;\n",
              "      display: none;\n",
              "      fill: #1967D2;\n",
              "      height: 32px;\n",
              "      padding: 0 0 0 0;\n",
              "      width: 32px;\n",
              "    }\n",
              "\n",
              "    .colab-df-convert:hover {\n",
              "      background-color: #E2EBFA;\n",
              "      box-shadow: 0px 1px 2px rgba(60, 64, 67, 0.3), 0px 1px 3px 1px rgba(60, 64, 67, 0.15);\n",
              "      fill: #174EA6;\n",
              "    }\n",
              "\n",
              "    .colab-df-buttons div {\n",
              "      margin-bottom: 4px;\n",
              "    }\n",
              "\n",
              "    [theme=dark] .colab-df-convert {\n",
              "      background-color: #3B4455;\n",
              "      fill: #D2E3FC;\n",
              "    }\n",
              "\n",
              "    [theme=dark] .colab-df-convert:hover {\n",
              "      background-color: #434B5C;\n",
              "      box-shadow: 0px 1px 3px 1px rgba(0, 0, 0, 0.15);\n",
              "      filter: drop-shadow(0px 1px 2px rgba(0, 0, 0, 0.3));\n",
              "      fill: #FFFFFF;\n",
              "    }\n",
              "  </style>\n",
              "\n",
              "    <script>\n",
              "      const buttonEl =\n",
              "        document.querySelector('#df-edebe118-2475-47da-be11-a86da20e804e button.colab-df-convert');\n",
              "      buttonEl.style.display =\n",
              "        google.colab.kernel.accessAllowed ? 'block' : 'none';\n",
              "\n",
              "      async function convertToInteractive(key) {\n",
              "        const element = document.querySelector('#df-edebe118-2475-47da-be11-a86da20e804e');\n",
              "        const dataTable =\n",
              "          await google.colab.kernel.invokeFunction('convertToInteractive',\n",
              "                                                    [key], {});\n",
              "        if (!dataTable) return;\n",
              "\n",
              "        const docLinkHtml = 'Like what you see? Visit the ' +\n",
              "          '<a target=\"_blank\" href=https://colab.research.google.com/notebooks/data_table.ipynb>data table notebook</a>'\n",
              "          + ' to learn more about interactive tables.';\n",
              "        element.innerHTML = '';\n",
              "        dataTable['output_type'] = 'display_data';\n",
              "        await google.colab.output.renderOutput(dataTable, element);\n",
              "        const docLink = document.createElement('div');\n",
              "        docLink.innerHTML = docLinkHtml;\n",
              "        element.appendChild(docLink);\n",
              "      }\n",
              "    </script>\n",
              "  </div>\n",
              "\n",
              "\n",
              "<div id=\"df-0155a3d3-b777-4ed5-a313-c551d478855d\">\n",
              "  <button class=\"colab-df-quickchart\" onclick=\"quickchart('df-0155a3d3-b777-4ed5-a313-c551d478855d')\"\n",
              "            title=\"Suggest charts\"\n",
              "            style=\"display:none;\">\n",
              "\n",
              "<svg xmlns=\"http://www.w3.org/2000/svg\" height=\"24px\"viewBox=\"0 0 24 24\"\n",
              "     width=\"24px\">\n",
              "    <g>\n",
              "        <path d=\"M19 3H5c-1.1 0-2 .9-2 2v14c0 1.1.9 2 2 2h14c1.1 0 2-.9 2-2V5c0-1.1-.9-2-2-2zM9 17H7v-7h2v7zm4 0h-2V7h2v10zm4 0h-2v-4h2v4z\"/>\n",
              "    </g>\n",
              "</svg>\n",
              "  </button>\n",
              "\n",
              "<style>\n",
              "  .colab-df-quickchart {\n",
              "      --bg-color: #E8F0FE;\n",
              "      --fill-color: #1967D2;\n",
              "      --hover-bg-color: #E2EBFA;\n",
              "      --hover-fill-color: #174EA6;\n",
              "      --disabled-fill-color: #AAA;\n",
              "      --disabled-bg-color: #DDD;\n",
              "  }\n",
              "\n",
              "  [theme=dark] .colab-df-quickchart {\n",
              "      --bg-color: #3B4455;\n",
              "      --fill-color: #D2E3FC;\n",
              "      --hover-bg-color: #434B5C;\n",
              "      --hover-fill-color: #FFFFFF;\n",
              "      --disabled-bg-color: #3B4455;\n",
              "      --disabled-fill-color: #666;\n",
              "  }\n",
              "\n",
              "  .colab-df-quickchart {\n",
              "    background-color: var(--bg-color);\n",
              "    border: none;\n",
              "    border-radius: 50%;\n",
              "    cursor: pointer;\n",
              "    display: none;\n",
              "    fill: var(--fill-color);\n",
              "    height: 32px;\n",
              "    padding: 0;\n",
              "    width: 32px;\n",
              "  }\n",
              "\n",
              "  .colab-df-quickchart:hover {\n",
              "    background-color: var(--hover-bg-color);\n",
              "    box-shadow: 0 1px 2px rgba(60, 64, 67, 0.3), 0 1px 3px 1px rgba(60, 64, 67, 0.15);\n",
              "    fill: var(--button-hover-fill-color);\n",
              "  }\n",
              "\n",
              "  .colab-df-quickchart-complete:disabled,\n",
              "  .colab-df-quickchart-complete:disabled:hover {\n",
              "    background-color: var(--disabled-bg-color);\n",
              "    fill: var(--disabled-fill-color);\n",
              "    box-shadow: none;\n",
              "  }\n",
              "\n",
              "  .colab-df-spinner {\n",
              "    border: 2px solid var(--fill-color);\n",
              "    border-color: transparent;\n",
              "    border-bottom-color: var(--fill-color);\n",
              "    animation:\n",
              "      spin 1s steps(1) infinite;\n",
              "  }\n",
              "\n",
              "  @keyframes spin {\n",
              "    0% {\n",
              "      border-color: transparent;\n",
              "      border-bottom-color: var(--fill-color);\n",
              "      border-left-color: var(--fill-color);\n",
              "    }\n",
              "    20% {\n",
              "      border-color: transparent;\n",
              "      border-left-color: var(--fill-color);\n",
              "      border-top-color: var(--fill-color);\n",
              "    }\n",
              "    30% {\n",
              "      border-color: transparent;\n",
              "      border-left-color: var(--fill-color);\n",
              "      border-top-color: var(--fill-color);\n",
              "      border-right-color: var(--fill-color);\n",
              "    }\n",
              "    40% {\n",
              "      border-color: transparent;\n",
              "      border-right-color: var(--fill-color);\n",
              "      border-top-color: var(--fill-color);\n",
              "    }\n",
              "    60% {\n",
              "      border-color: transparent;\n",
              "      border-right-color: var(--fill-color);\n",
              "    }\n",
              "    80% {\n",
              "      border-color: transparent;\n",
              "      border-right-color: var(--fill-color);\n",
              "      border-bottom-color: var(--fill-color);\n",
              "    }\n",
              "    90% {\n",
              "      border-color: transparent;\n",
              "      border-bottom-color: var(--fill-color);\n",
              "    }\n",
              "  }\n",
              "</style>\n",
              "\n",
              "  <script>\n",
              "    async function quickchart(key) {\n",
              "      const quickchartButtonEl =\n",
              "        document.querySelector('#' + key + ' button');\n",
              "      quickchartButtonEl.disabled = true;  // To prevent multiple clicks.\n",
              "      quickchartButtonEl.classList.add('colab-df-spinner');\n",
              "      try {\n",
              "        const charts = await google.colab.kernel.invokeFunction(\n",
              "            'suggestCharts', [key], {});\n",
              "      } catch (error) {\n",
              "        console.error('Error during call to suggestCharts:', error);\n",
              "      }\n",
              "      quickchartButtonEl.classList.remove('colab-df-spinner');\n",
              "      quickchartButtonEl.classList.add('colab-df-quickchart-complete');\n",
              "    }\n",
              "    (() => {\n",
              "      let quickchartButtonEl =\n",
              "        document.querySelector('#df-0155a3d3-b777-4ed5-a313-c551d478855d button');\n",
              "      quickchartButtonEl.style.display =\n",
              "        google.colab.kernel.accessAllowed ? 'block' : 'none';\n",
              "    })();\n",
              "  </script>\n",
              "</div>\n",
              "    </div>\n",
              "  </div>\n"
            ],
            "application/vnd.google.colaboratory.intrinsic+json": {
              "type": "dataframe",
              "variable_name": "data",
              "summary": "{\n  \"name\": \"data\",\n  \"rows\": 15,\n  \"fields\": [\n    {\n      \"column\": \"link\",\n      \"properties\": {\n        \"dtype\": \"string\",\n        \"num_unique_values\": 15,\n        \"samples\": [\n          \"https://twitter.com/mkstalin/status/1791677075952443594#m\",\n          \"https://twitter.com/mkstalin/status/1791324329332093159#m\",\n          \"https://twitter.com/mkstalin/status/1796420514149474375#m\"\n        ],\n        \"semantic_type\": \"\",\n        \"description\": \"\"\n      }\n    },\n    {\n      \"column\": \"text\",\n      \"properties\": {\n        \"dtype\": \"string\",\n        \"num_unique_values\": 15,\n        \"samples\": [\n          \"\\u0ba4\\u0bcb\\u0bb2\\u0bcd\\u0bb5\\u0bbf \\u0baa\\u0baf\\u0bae\\u0bcd \\u0b8e\\u0ba9\\u0bcd\\u0ba9 \\u0b9a\\u0bc6\\u0baf\\u0bcd\\u0baf\\u0bc1\\u0bae\\u0bcd?  \\u0baa\\u0bbf\\u0bb0\\u0ba4\\u0bae\\u0bb0\\u0bcd \\u0b8e\\u0ba9\\u0bcd\\u0bb1 \\u0b89\\u0baf\\u0bb0\\u0bcd\\u0baa\\u0bca\\u0bb1\\u0bc1\\u0baa\\u0bcd\\u0baa\\u0bbf\\u0bb2\\u0bcd \\u0b87\\u0bb0\\u0bc1\\u0ba8\\u0bcd\\u0ba4\\u0bc1\\u0b95\\u0bca\\u0ba3\\u0bcd\\u0b9f\\u0bc7 \\u0b92\\u0bb0\\u0bc1 \\u0bae\\u0bbe\\u0ba8\\u0bbf\\u0bb2 \\u0b85\\u0bb0\\u0b9a\\u0bbf\\u0ba9\\u0bcd \\u0bae\\u0b95\\u0bcd\\u0b95\\u0bb3\\u0bcd\\u0ba8\\u0bb2\\u0ba4\\u0bcd \\u0ba4\\u0bbf\\u0b9f\\u0bcd\\u0b9f\\u0ba4\\u0bcd\\u0ba4\\u0bbf\\u0ba9\\u0bcd \\u0bb5\\u0bc6\\u0bb1\\u0bcd\\u0bb1\\u0bbf\\u0baf\\u0bc8\\u0baa\\u0bcd \\u0baa\\u0bca\\u0bb1\\u0bc1\\u0ba4\\u0bcd\\u0ba4\\u0bc1\\u0b95\\u0bcd\\u0b95\\u0bca\\u0bb3\\u0bcd\\u0bb3 \\u0bae\\u0bc1\\u0b9f\\u0bbf\\u0baf\\u0bbe\\u0bae\\u0bb2\\u0bcd \\u0ba4\\u0bc2\\u0bb1\\u0bcd\\u0bb1\\u0b9a\\u0bcd \\u0b9a\\u0bc6\\u0baf\\u0bcd\\u0baf\\u0bc1\\u0bae\\u0bcd!  \\u0b87\\u0ba8\\u0bcd\\u0ba4\\u0bbf\\u0baf\\u0bb0\\u0bcd\\u0b95\\u0bb3\\u0bcd \\u0b85\\u0ba9\\u0bc8\\u0bb5\\u0bb0\\u0bc1\\u0b95\\u0bcd\\u0b95\\u0bc1\\u0bae\\u0bcd \\u0ba4\\u0bbe\\u0ba9\\u0bcd \\u0baa\\u0bca\\u0ba4\\u0bc1\\u0bb5\\u0bbe\\u0ba9\\u0bb5\\u0bb0\\u0bcd - \\u0baa\\u0bbf\\u0bb0\\u0ba4\\u0bae\\u0bb0\\u0bcd \\u0b8e\\u0ba9\\u0bcd\\u0baa\\u0ba4\\u0bc8\\u0baf\\u0bc7 \\u0bae\\u0bb1\\u0ba8\\u0bcd\\u0ba4\\u0bc1 \\u0bae\\u0bbe\\u0ba8\\u0bbf\\u0bb2\\u0b99\\u0bcd\\u0b95\\u0bb3\\u0bc1\\u0b95\\u0bcd\\u0b95\\u0bc1 \\u0b87\\u0b9f\\u0bc8\\u0baf\\u0bc7 \\u0bae\\u0bcb\\u0ba4\\u0bb2\\u0bc8\\u0baf\\u0bc1\\u0bae\\u0bcd \\u0bb5\\u0bc6\\u0bb1\\u0bc1\\u0baa\\u0bcd\\u0baa\\u0bc8\\u0baf\\u0bc1\\u0bae\\u0bcd \\u0ba4\\u0bc2\\u0ba3\\u0bcd\\u0b9f\\u0b9a\\u0bcd \\u0b9a\\u0bc6\\u0baf\\u0bcd\\u0baf\\u0bc1\\u0bae\\u0bcd!  \\u0b9c\\u0bc2\\u0ba9\\u0bcd-4 \\u0b87\\u0ba8\\u0bcd\\u0ba4\\u0baa\\u0bcd \\u0baa\\u0bca\\u0baf\\u0bcd\\u0b95\\u0bb3\\u0bcd \\u0b89\\u0b9f\\u0bc8\\u0baa\\u0b9f\\u0bc1\\u0bae\\u0bcd! \\u0bb5\\u0bc6\\u0bb1\\u0bc1\\u0baa\\u0bcd\\u0baa\\u0bc1 \\u0b85\\u0b95\\u0bb2\\u0bc1\\u0bae\\u0bcd! #INDIA \\u0bb5\\u0bc6\\u0bb2\\u0bcd\\u0bb2\\u0bc1\\u0bae\\u0bcd!\",\n          \"Congratulations to Senior Advocate @KapilSibal on being elected as the President of the Supreme Court Bar Association!   His victory ensures that the independence of the bar and our constitutional values are in safe hands. We are confident in his leadership to uphold justice and democratic principles that the people of India cherish deeply.  #SCBA #KapilSibal\",\n          \"#DravidianModel \\u0b85\\u0bb0\\u0b9a\\u0bbf\\u0ba9\\u0bcd \\u0bae\\u0bc2\\u0ba9\\u0bcd\\u0bb1\\u0bc7 \\u0b86\\u0ba3\\u0bcd\\u0b9f\\u0bc1\\u0b95\\u0bb3\\u0bbf\\u0bb2\\u0bcd \\u0ba4\\u0bae\\u0bbf\\u0bb4\\u0bcd\\u0ba8\\u0bbe\\u0b9f\\u0bcd\\u0b9f\\u0bbf\\u0ba9\\u0bcd \\u0b95\\u0bb2\\u0bcd\\u0bb5\\u0bbf\\u0ba4\\u0bcd\\u0ba4\\u0bc1\\u0bb1\\u0bc8 \\u0b95\\u0ba3\\u0bcd\\u0b9f\\u0bc1\\u0bb3\\u0bcd\\u0bb3 \\u0ba8\\u0bbe\\u0bb2\\u0bc1\\u0b95\\u0bbe\\u0bb2\\u0bcd \\u0baa\\u0bbe\\u0baf\\u0bcd\\u0b9a\\u0bcd\\u0b9a\\u0bb2\\u0bcd \\u0bb5\\u0bb3\\u0bb0\\u0bcd\\u0b9a\\u0bcd\\u0b9a\\u0bbf\\u0b95\\u0bcd\\u0b95\\u0bc1 \\u0b87\\u0ba9\\u0bcd\\u0bb1\\u0bc8\\u0baf \\u0b9a\\u0bc6\\u0baf\\u0bcd\\u0ba4\\u0bbf\\u0ba4\\u0bcd\\u0ba4\\u0bbe\\u0bb3\\u0bcd\\u0b95\\u0bb3\\u0bbf\\u0bb2\\u0bcd \\u0bb5\\u0ba8\\u0bcd\\u0ba4\\u0bc1\\u0bb3\\u0bcd\\u0bb3 \\u0b9a\\u0bc6\\u0baf\\u0bcd\\u0ba4\\u0bbf\\u0b95\\u0bb3\\u0bc7 \\u0b9a\\u0bbe\\u0b9f\\u0bcd\\u0b9a\\u0bbf!  20,332 \\u0b85\\u0bb0\\u0b9a\\u0bc1 - \\u0b85\\u0bb0\\u0b9a\\u0bc1 \\u0b89\\u0ba4\\u0bb5\\u0bbf \\u0baa\\u0bc6\\u0bb1\\u0bc1\\u0bae\\u0bcd \\u0baa\\u0bb3\\u0bcd\\u0bb3\\u0bbf\\u0b95\\u0bb3\\u0bbf\\u0bb2\\u0bcd \\u0b87\\u0ba3\\u0bc8\\u0baf \\u0bb5\\u0b9a\\u0ba4\\u0bbf,  519.73 \\u0b95\\u0bcb\\u0b9f\\u0bbf \\u0bb0\\u0bc2\\u0baa\\u0bbe\\u0baf\\u0bbf\\u0bb2\\u0bcd \\u0b89\\u0baf\\u0bb0\\u0bcd\\u0ba4\\u0bca\\u0bb4\\u0bbf\\u0bb2\\u0bcd\\u0ba8\\u0bc1\\u0b9f\\u0bcd\\u0baa\\u0ba4\\u0bcd\\u0ba4\\u0bc1\\u0b9f\\u0ba9\\u0bcd \\u0b95\\u0bc2\\u0b9f\\u0bbf\\u0baf \\u0b86\\u0baf\\u0bcd\\u0bb5\\u0b95\\u0b99\\u0bcd\\u0b95\\u0bb3\\u0bcd,  22,931 'Smart' \\u0bb5\\u0b95\\u0bc1\\u0baa\\u0bcd\\u0baa\\u0bb1\\u0bc8\\u0b95\\u0bb3\\u0bcd,  \\u0baa\\u0bc1\\u0ba4\\u0bc1\\u0bae\\u0bc8\\u0baa\\u0bcd \\u0baa\\u0bc6\\u0ba3\\u0bcd, \\u0ba8\\u0bbe\\u0ba9\\u0bcd \\u0bae\\u0bc1\\u0ba4\\u0bb2\\u0bcd\\u0bb5\\u0ba9\\u0bcd \\u0ba4\\u0bbf\\u0b9f\\u0bcd\\u0b9f\\u0b99\\u0bcd\\u0b95\\u0bb3\\u0bbf\\u0ba9\\u0bbe\\u0bb2\\u0bcd \\u0b89\\u0baf\\u0bb0\\u0bcd\\u0b95\\u0bb2\\u0bcd\\u0bb5\\u0bbf\\u0baf\\u0bbf\\u0bb2\\u0bcd \\u0b9a\\u0bc7\\u0bb0\\u0bc1\\u0bae\\u0bcd \\u0baa\\u0bc6\\u0ba3\\u0bcd\\u0b95\\u0bb3\\u0bcd, \\u0bae\\u0bbe\\u0ba3\\u0bb5\\u0bb0\\u0bcd\\u0b95\\u0bb3\\u0bcd \\u0b8e\\u0ba3\\u0bcd\\u0ba3\\u0bbf\\u0b95\\u0bcd\\u0b95\\u0bc8 \\u0ba4\\u0bca\\u0b9f\\u0bb0\\u0bcd\\u0ba8\\u0bcd\\u0ba4\\u0bc1 \\u0b89\\u0baf\\u0bb0\\u0bcd\\u0bb5\\u0bc1.  \\u0ba8\\u0bae\\u0bcd \\u0b87\\u0bb2\\u0b95\\u0bcd\\u0b95\\u0bc8 \\u0ba8\\u0bcb\\u0b95\\u0bcd\\u0b95\\u0bbf\\u0baf \\u0ba8\\u0bc0\\u0ba3\\u0bcd\\u0b9f \\u0baa\\u0baf\\u0ba3\\u0ba4\\u0bcd\\u0ba4\\u0bbf\\u0ba9\\u0bcd \\u0ba4\\u0bc1\\u0bb5\\u0b95\\u0bcd\\u0b95\\u0bae\\u0bcd\\u0ba4\\u0bbe\\u0ba9\\u0bcd \\u0b87\\u0ba4\\u0bc1! \\u0baa\\u0baf\\u0ba3\\u0ba4\\u0bcd\\u0ba4\\u0bc8\\u0ba4\\u0bcd \\u0ba4\\u0bca\\u0b9f\\u0bb0\\u0bcd\\u0bb5\\u0bcb\\u0bae\\u0bcd! \\u0ba4\\u0bae\\u0bbf\\u0bb4\\u0bcd\\u0ba8\\u0bbe\\u0b9f\\u0bcd\\u0b9f\\u0bc8 \\u0b89\\u0baf\\u0bb0\\u0bcd\\u0ba4\\u0bcd\\u0ba4\\u0bc1\\u0bb5\\u0bcb\\u0bae\\u0bcd!   @KPonmudiMLA @Anbil_Mahesh\"\n        ],\n        \"semantic_type\": \"\",\n        \"description\": \"\"\n      }\n    },\n    {\n      \"column\": \"date\",\n      \"properties\": {\n        \"dtype\": \"string\",\n        \"num_unique_values\": 15,\n        \"samples\": [\n          \"May 18, 2024 \\u00b7 3:47 AM UTC\",\n          \"May 17, 2024 \\u00b7 4:26 AM UTC\",\n          \"May 31, 2024 \\u00b7 5:56 AM UTC\"\n        ],\n        \"semantic_type\": \"\",\n        \"description\": \"\"\n      }\n    },\n    {\n      \"column\": \"likes\",\n      \"properties\": {\n        \"dtype\": \"number\",\n        \"std\": 1680,\n        \"min\": 827,\n        \"max\": 6064,\n        \"num_unique_values\": 15,\n        \"samples\": [\n          4987,\n          5683,\n          1654\n        ],\n        \"semantic_type\": \"\",\n        \"description\": \"\"\n      }\n    },\n    {\n      \"column\": \"tweets\",\n      \"properties\": {\n        \"dtype\": \"number\",\n        \"std\": 122,\n        \"min\": 42,\n        \"max\": 512,\n        \"num_unique_values\": 15,\n        \"samples\": [\n          338,\n          216,\n          101\n        ],\n        \"semantic_type\": \"\",\n        \"description\": \"\"\n      }\n    }\n  ]\n}"
            }
          },
          "metadata": {},
          "execution_count": 12
        }
      ]
    },
    {
      "cell_type": "code",
      "source": [
        "data.to_csv('mkstalin.csv')"
      ],
      "metadata": {
        "id": "aP_3m40854nG"
      },
      "execution_count": null,
      "outputs": []
    },
    {
      "cell_type": "code",
      "source": [
        "scrapper .get_profile_info('mkstalin')"
      ],
      "metadata": {
        "colab": {
          "base_uri": "https://localhost:8080/"
        },
        "id": "elworp6C61PV",
        "outputId": "6544fd59-f690-4fe4-f6a5-62d3ebf768da"
      },
      "execution_count": null,
      "outputs": [
        {
          "output_type": "stream",
          "name": "stderr",
          "text": [
            "INFO:root:No instance specified, using random instance https://nitter.privacydev.net\n"
          ]
        },
        {
          "output_type": "execute_result",
          "data": {
            "text/plain": [
              "{'image': 'https://pbs.twimg.com/profile_images/1695045781932449792/LsF1Dzit_400x400.jpg',\n",
              " 'name': 'M.K.Stalin',\n",
              " 'username': '@mkstalin',\n",
              " 'id': '2163039523',\n",
              " 'bio': 'Chief Minister of Tamil Nadu | President of the DMK | Belongs to the Dravidian stock',\n",
              " 'location': '',\n",
              " 'website': 'http://www.mkstalin.in',\n",
              " 'joined': '3:11 PM - 29 Oct 2013',\n",
              " 'stats': {'tweets': 9214,\n",
              "  'following': 88,\n",
              "  'followers': 3827944,\n",
              "  'likes': 14,\n",
              "  'media': 0}}"
            ]
          },
          "metadata": {},
          "execution_count": 11
        }
      ]
    },
    {
      "cell_type": "code",
      "source": [],
      "metadata": {
        "id": "Gm8eohgg7DKZ"
      },
      "execution_count": null,
      "outputs": []
    }
  ]
}